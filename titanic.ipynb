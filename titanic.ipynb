{
 "cells": [
  {
   "cell_type": "markdown",
   "metadata": {},
   "source": [
    "# 探索数据集-泰坦尼克"
   ]
  },
  {
   "cell_type": "markdown",
   "metadata": {},
   "source": [
    "# 1.简介（Introduction）"
   ]
  },
  {
   "cell_type": "markdown",
   "metadata": {},
   "source": [
    "## 1.1.数据集"
   ]
  },
  {
   "cell_type": "markdown",
   "metadata": {},
   "source": [
    "### 1.1.1.数据字段含义\n",
    "\n",
    "Variable | Definition | Key\n",
    "---------| -----------|------\n",
    "PassengerId | Passenger id(旅客编号) |\n",
    "survival | Survival(旅客) | 0 = No, 1 = Yes\n",
    "pclass | Ticket class(船票类型) | 1 = 1st, 2 = 2nd, 3 = 3rd\n",
    "sex\t| Sex(性别) |\t\n",
    "Age | Age(年龄) | in years\t\n",
    "sibsp | of siblings / spouses aboard the Titanic(一同上船的兄弟姐妹或配偶) |\t\n",
    "parch | of parents / children aboard the Titanic(一同上船的父母或孩子) |\t\n",
    "ticket | Ticket number(票号) |\t\n",
    "fare | Passenger fare(票价) |\t\n",
    "cabin | Cabin number(船舱) |\t\n",
    "embarked | Port of Embarkation(出发港) | C = Cherbourg, Q = Queenstown, S = Southampton\n",
    " \n"
   ]
  },
  {
   "cell_type": "markdown",
   "metadata": {},
   "source": [
    "### 1.1.2.变量使用注意事项\n",
    "**pclass(船票类型): **\n",
    "\n",
    "A proxy for socio-economic status (SES)\n",
    "- 1st = Upper\n",
    "- 2nd = Middle\n",
    "- 3rd = Lower\n",
    "\n",
    "**age(年龄):  **\n",
    "\n",
    "Age is fractional if less than 1. If the age is estimated, is it in the form of xx.5\n",
    "\n",
    "**sibsp(一同上船的兄弟姐妹或配偶): **\n",
    "\n",
    "The dataset defines family relations in this way...\n",
    "- Sibling = brother, sister, stepbrother, stepsister\n",
    "- Spouse = husband, wife (mistresses and fiancés were ignored)\n",
    "\n",
    "**parch(一同上船的父母或孩子): **\n",
    "\n",
    "The dataset defines family relations in this way...\n",
    "- Parent = mother, father\n",
    "- Child = daughter, son, stepdaughter, stepson\n",
    "Some children travelled only with a nanny, therefore parch=0 for them."
   ]
  },
  {
   "cell_type": "markdown",
   "metadata": {},
   "source": [
    "## 1.2.研究问题"
   ]
  },
  {
   "cell_type": "markdown",
   "metadata": {},
   "source": [
    "### 1.2.1.有哪些因素会让船上的人生还率更高？\n",
    "\n",
    "\n",
    "**1.年龄、票价与生还率的关系**\n",
    "\n",
    "年龄和票价为数值变量归为一类进行探索\n",
    "\n",
    "\n",
    "**2.性别、船票等级与生还率的关系**\n",
    "\n",
    "性别和船票等级为类别变量归为一类进行探索"
   ]
  },
  {
   "cell_type": "markdown",
   "metadata": {},
   "source": [
    "## 2.数据整理（Data Wrangling）"
   ]
  },
  {
   "cell_type": "markdown",
   "metadata": {},
   "source": [
    "## 2.1.数据采集"
   ]
  },
  {
   "cell_type": "markdown",
   "metadata": {},
   "source": [
    "### 2.1.1.通用函数"
   ]
  },
  {
   "cell_type": "code",
   "execution_count": 1,
   "metadata": {},
   "outputs": [],
   "source": [
    "'''\n",
    "汇总常用的数据处理函数\n",
    "'''\n",
    "import pandas as pd\n",
    "import numpy as np\n",
    "import seaborn as sns\n",
    "import matplotlib.pyplot as plt\n",
    "from datetime import datetime as dt\n",
    "%matplotlib inline\n",
    "\n",
    "\n",
    "def load_data_csv (filename):\n",
    "    '''\n",
    "    加载数据文件\n",
    "    必须是 csv 文件\n",
    "    '''\n",
    "    titanic_df = pd.read_csv(filename)\n",
    "    return titanic_df\n",
    "\n",
    "\n",
    "def correlation(x, y):\n",
    "    '''\n",
    "    皮尔逊相关系数\n",
    "    correlation = average of (x in standard units) times(y in standard units)\n",
    "    std(ddof=0)\n",
    "    pearson`s r(-1, 1)\n",
    "    '''\n",
    "    x_std = (x - x.mean())/x.std(ddof=0)\n",
    "    y_std = (y - y.mean())/y.std(ddof=0)\n",
    "    return (x_std * y_std).mean()\n"
   ]
  },
  {
   "cell_type": "markdown",
   "metadata": {},
   "source": [
    "### 2.1.2.导入数据"
   ]
  },
  {
   "cell_type": "code",
   "execution_count": 12,
   "metadata": {
    "scrolled": false
   },
   "outputs": [],
   "source": [
    "titanic_df = load_data_csv('titanic-data.csv')\n",
    "#前5行\n",
    "# titanic_df.head()"
   ]
  },
  {
   "cell_type": "markdown",
   "metadata": {},
   "source": [
    "### 2.1.3.查看数据常规属性"
   ]
  },
  {
   "cell_type": "code",
   "execution_count": 16,
   "metadata": {},
   "outputs": [
    {
     "data": {
      "text/html": [
       "<div>\n",
       "<style scoped>\n",
       "    .dataframe tbody tr th:only-of-type {\n",
       "        vertical-align: middle;\n",
       "    }\n",
       "\n",
       "    .dataframe tbody tr th {\n",
       "        vertical-align: top;\n",
       "    }\n",
       "\n",
       "    .dataframe thead th {\n",
       "        text-align: right;\n",
       "    }\n",
       "</style>\n",
       "<table border=\"1\" class=\"dataframe\">\n",
       "  <thead>\n",
       "    <tr style=\"text-align: right;\">\n",
       "      <th></th>\n",
       "      <th>PassengerId</th>\n",
       "      <th>Survived</th>\n",
       "      <th>Pclass</th>\n",
       "      <th>Age</th>\n",
       "      <th>SibSp</th>\n",
       "      <th>Parch</th>\n",
       "      <th>Fare</th>\n",
       "    </tr>\n",
       "  </thead>\n",
       "  <tbody>\n",
       "    <tr>\n",
       "      <th>count</th>\n",
       "      <td>891.000000</td>\n",
       "      <td>891.000000</td>\n",
       "      <td>891.000000</td>\n",
       "      <td>714.000000</td>\n",
       "      <td>891.000000</td>\n",
       "      <td>891.000000</td>\n",
       "      <td>891.000000</td>\n",
       "    </tr>\n",
       "    <tr>\n",
       "      <th>mean</th>\n",
       "      <td>446.000000</td>\n",
       "      <td>0.383838</td>\n",
       "      <td>2.308642</td>\n",
       "      <td>29.699118</td>\n",
       "      <td>0.523008</td>\n",
       "      <td>0.381594</td>\n",
       "      <td>32.204208</td>\n",
       "    </tr>\n",
       "    <tr>\n",
       "      <th>std</th>\n",
       "      <td>257.353842</td>\n",
       "      <td>0.486592</td>\n",
       "      <td>0.836071</td>\n",
       "      <td>14.526497</td>\n",
       "      <td>1.102743</td>\n",
       "      <td>0.806057</td>\n",
       "      <td>49.693429</td>\n",
       "    </tr>\n",
       "    <tr>\n",
       "      <th>min</th>\n",
       "      <td>1.000000</td>\n",
       "      <td>0.000000</td>\n",
       "      <td>1.000000</td>\n",
       "      <td>0.420000</td>\n",
       "      <td>0.000000</td>\n",
       "      <td>0.000000</td>\n",
       "      <td>0.000000</td>\n",
       "    </tr>\n",
       "    <tr>\n",
       "      <th>25%</th>\n",
       "      <td>223.500000</td>\n",
       "      <td>0.000000</td>\n",
       "      <td>2.000000</td>\n",
       "      <td>20.125000</td>\n",
       "      <td>0.000000</td>\n",
       "      <td>0.000000</td>\n",
       "      <td>7.910400</td>\n",
       "    </tr>\n",
       "    <tr>\n",
       "      <th>50%</th>\n",
       "      <td>446.000000</td>\n",
       "      <td>0.000000</td>\n",
       "      <td>3.000000</td>\n",
       "      <td>28.000000</td>\n",
       "      <td>0.000000</td>\n",
       "      <td>0.000000</td>\n",
       "      <td>14.454200</td>\n",
       "    </tr>\n",
       "    <tr>\n",
       "      <th>75%</th>\n",
       "      <td>668.500000</td>\n",
       "      <td>1.000000</td>\n",
       "      <td>3.000000</td>\n",
       "      <td>38.000000</td>\n",
       "      <td>1.000000</td>\n",
       "      <td>0.000000</td>\n",
       "      <td>31.000000</td>\n",
       "    </tr>\n",
       "    <tr>\n",
       "      <th>max</th>\n",
       "      <td>891.000000</td>\n",
       "      <td>1.000000</td>\n",
       "      <td>3.000000</td>\n",
       "      <td>80.000000</td>\n",
       "      <td>8.000000</td>\n",
       "      <td>6.000000</td>\n",
       "      <td>512.329200</td>\n",
       "    </tr>\n",
       "  </tbody>\n",
       "</table>\n",
       "</div>"
      ],
      "text/plain": [
       "       PassengerId    Survived      Pclass         Age       SibSp  \\\n",
       "count   891.000000  891.000000  891.000000  714.000000  891.000000   \n",
       "mean    446.000000    0.383838    2.308642   29.699118    0.523008   \n",
       "std     257.353842    0.486592    0.836071   14.526497    1.102743   \n",
       "min       1.000000    0.000000    1.000000    0.420000    0.000000   \n",
       "25%     223.500000    0.000000    2.000000   20.125000    0.000000   \n",
       "50%     446.000000    0.000000    3.000000   28.000000    0.000000   \n",
       "75%     668.500000    1.000000    3.000000   38.000000    1.000000   \n",
       "max     891.000000    1.000000    3.000000   80.000000    8.000000   \n",
       "\n",
       "            Parch        Fare  \n",
       "count  891.000000  891.000000  \n",
       "mean     0.381594   32.204208  \n",
       "std      0.806057   49.693429  \n",
       "min      0.000000    0.000000  \n",
       "25%      0.000000    7.910400  \n",
       "50%      0.000000   14.454200  \n",
       "75%      0.000000   31.000000  \n",
       "max      6.000000  512.329200  "
      ]
     },
     "execution_count": 16,
     "metadata": {},
     "output_type": "execute_result"
    }
   ],
   "source": [
    "#末尾5行\n",
    "titanic_df.tail()\n",
    "#索引\n",
    "titanic_df.index\n",
    "#列\n",
    "titanic_df.columns\n",
    "#第一行\n",
    "# titanic_df.iloc[0]\n",
    "# titanic_df.loc[0]\n",
    "#指定列\n",
    "# titanic_df.loc[:, 'Age']\n",
    "# titanic_df.loc[:, 'Age': \"Fare\"]\n",
    "# titanic_df.iloc[:, 0:2]\n",
    "#底层数据\n",
    "titanic_df.values\n",
    "#统计汇总\n",
    "titanic_df.describe()\n",
    "#数据转置\n",
    "# titanic_df.T\n"
   ]
  },
  {
   "cell_type": "code",
   "execution_count": 15,
   "metadata": {
    "scrolled": false
   },
   "outputs": [],
   "source": [
    "#按轴进行排序\n",
    "titanic_df.sort_index(axis=0, ascending=False)\n",
    "#按值进排序\n",
    "sv = titanic_df.sort_values(by='Age', axis=0, ascending=True)\n",
    "sv = titanic_df.sort_values(by=['Age','Fare'], axis=0, ascending=[True,True],na_position='last')\n",
    "# sv.head()"
   ]
  },
  {
   "cell_type": "markdown",
   "metadata": {},
   "source": [
    "## 2.2.清理数据"
   ]
  },
  {
   "cell_type": "markdown",
   "metadata": {},
   "source": [
    "### 2.2.1.异常数据项\n",
    "\n",
    "**1.Age：**年龄信息有小数和空值需要排除\n",
    "*需要填充异常空值数据*\n",
    "\n",
    "**2.Fare：**票价有0的情况\n",
    "*需要填充异常数据*\n",
    "\n",
    "**3.Cabin：**船舱号有空的情况\n",
    "*不做参考因素，不处理*\n",
    "\n",
    "**4.Embarked：**出发港有空的情况\n",
    "*不做参考因素，不处理*\n",
    "\n",
    "**5.Pclass：**船票类型与票价的对应中有高类型对应低票价情况，\n",
    "*需要排除特别数据*"
   ]
  },
  {
   "cell_type": "markdown",
   "metadata": {},
   "source": [
    "### 2.2.2.修正数据类型"
   ]
  },
  {
   "cell_type": "markdown",
   "metadata": {},
   "source": [
    "**1.Age：**填充  异常缺失值"
   ]
  },
  {
   "cell_type": "code",
   "execution_count": 17,
   "metadata": {},
   "outputs": [],
   "source": [
    "titanic_df.Age.fillna(titanic_df.Age.mean(), inplace=True)"
   ]
  },
  {
   "cell_type": "markdown",
   "metadata": {},
   "source": [
    "**2.Fare：**票价0的数据需要填充"
   ]
  },
  {
   "cell_type": "code",
   "execution_count": 18,
   "metadata": {},
   "outputs": [
    {
     "name": "stdout",
     "output_type": "stream",
     "text": [
      "32.2042079686\n"
     ]
    }
   ],
   "source": [
    "faremean = titanic_df.Fare.mean()\n",
    "print faremean\n",
    "def fix_fare(num):\n",
    "    if (num <= 0.0000):\n",
    "        num = faremean\n",
    "    return num\n",
    "#print titanic_df.Fare.mean()\n",
    "titanic_df.Fare = titanic_df.Fare.apply(fix_fare)\n",
    "# titanic_df.sort_values(by='Fare', axis=0, ascending=True)\n"
   ]
  },
  {
   "cell_type": "markdown",
   "metadata": {},
   "source": [
    "## 3.探索性数据分析（EDA, Exploratory Data Analysis）"
   ]
  },
  {
   "cell_type": "code",
   "execution_count": 19,
   "metadata": {},
   "outputs": [],
   "source": [
    "#生还数据\n",
    "Survived = titanic_df['Survived']\n",
    "# print Survived"
   ]
  },
  {
   "cell_type": "markdown",
   "metadata": {},
   "source": [
    "### 3.1.探索年龄、票价与生还率的关系"
   ]
  },
  {
   "cell_type": "markdown",
   "metadata": {},
   "source": [
    "#### 3.1.1.探索"
   ]
  },
  {
   "cell_type": "code",
   "execution_count": 20,
   "metadata": {},
   "outputs": [
    {
     "data": {
      "image/png": "[encoded data removed]",
      "text/plain": [
       "<matplotlib.figure.Figure at 0xbe7aa90>"
      ]
     },
     "metadata": {},
     "output_type": "display_data"
    },
    {
     "data": {
      "image/png": "[encoded data removed]",
      "text/plain": [
       "<matplotlib.figure.Figure at 0xbe7aba8>"
      ]
     },
     "metadata": {},
     "output_type": "display_data"
    }
   ],
   "source": [
    "def histRate(feature, not_survived, survived):\n",
    "    '''\n",
    "    绘制直方图\n",
    "    feature:探索的字段\n",
    "    not_survived：非幸存者\n",
    "    survived:幸存者\n",
    "    '''\n",
    "    \n",
    "    plt.figure(figsize=(12,6))\n",
    "    plt.hist([not_survived, survived], stacked=False, bins=8)\n",
    "    plt.title('All Passsenger Distribution By '+feature+' and Survival')\n",
    "    plt.xlabel(feature)\n",
    "    plt.ylabel('Count of Passengers')\n",
    "    plt.legend(['Not Survived', 'Survived'])\n",
    "    plt.show()\n",
    "\n",
    "#年龄对应幸存者数据和非幸存者数据\n",
    "age_not_survived = titanic_df[titanic_df.Survived == 0].Age\n",
    "age_survived = titanic_df[titanic_df.Survived == 1].Age\n",
    "histRate('Age', age_not_survived, age_survived)\n",
    "\n",
    "\n",
    "#票价对应幸存者数据和非幸存者数据\n",
    "fare_not_survived = titanic_df[titanic_df.Survived == 0].Fare\n",
    "fare_survived = titanic_df[titanic_df.Survived == 1].Fare\n",
    "histRate('Fare', fare_not_survived, fare_survived)"
   ]
  },
  {
   "cell_type": "markdown",
   "metadata": {},
   "source": [
    "#### 3.1.2.分析\n",
    "\n",
    "**1.年龄**\n",
    "\n",
    "0-10岁：幸存者比例高\n",
    "\n",
    "20-40岁：根据图形来看，这个年龄段的乘客最多\n",
    "\n",
    "20-30岁：幸存者和非幸存者的比例相差最大\n",
    "\n",
    "其他年龄段的非幸存者比例高\n",
    "\n",
    "从年龄与幸存者比例看不出年龄与生还率的关联关系\n",
    "\n",
    "**2.票价**\n",
    "\n",
    "根据图形来看，票价在100左右的人幸存者要多于非幸存者\n",
    "票价低于100的人幸存者比例少于非幸存者\n"
   ]
  },
  {
   "cell_type": "markdown",
   "metadata": {},
   "source": [
    "### 3.2.性别、船票等级与生还率的关系"
   ]
  },
  {
   "cell_type": "markdown",
   "metadata": {},
   "source": [
    "#### 3.2.1.探索"
   ]
  },
  {
   "cell_type": "code",
   "execution_count": 21,
   "metadata": {},
   "outputs": [
    {
     "data": {
      "image/png": "[encoded data removed]",
      "text/plain": [
       "<matplotlib.figure.Figure at 0xc9cb7b8>"
      ]
     },
     "metadata": {},
     "output_type": "display_data"
    },
    {
     "data": {
      "image/png": "[encoded data removed]",
      "text/plain": [
       "<matplotlib.figure.Figure at 0xc933320>"
      ]
     },
     "metadata": {},
     "output_type": "display_data"
    }
   ],
   "source": [
    "def plotRate(feature):\n",
    "    '''\n",
    "    计算生存率和显示柱状图\n",
    "    '''\n",
    "    survived_by_feature = titanic_df.groupby(feature).mean()['Survived']\n",
    "    survived_by_feature.plot(kind='bar')\n",
    "    plt.title('Rate of survival by '+feature)\n",
    "    plt.show()\n",
    "\n",
    "#性别相关生存率柱状图\n",
    "plotRate('Sex')\n",
    "\n",
    "#船票等级相关生存率柱状图\n",
    "plotRate('Pclass')"
   ]
  },
  {
   "cell_type": "markdown",
   "metadata": {},
   "source": [
    "#### 3.2.2.分析\n",
    "\n",
    "**1.性别**\n",
    "\n",
    "根据根据女性的生还率:70%左右 男性生还率:20%左右，根据直方图来看，女性生还率可能比男性高。\n",
    "\n",
    "**2.船票等级**\n",
    "\n",
    "按照柱状图所示，按照船票等级，生还率依次降低，船票等级高的生还率要高\n"
   ]
  },
  {
   "cell_type": "markdown",
   "metadata": {},
   "source": [
    "### 3.3.船票等级与船票价格的关系"
   ]
  },
  {
   "cell_type": "markdown",
   "metadata": {},
   "source": [
    "#### 3.3.1.探索"
   ]
  },
  {
   "cell_type": "code",
   "execution_count": 22,
   "metadata": {},
   "outputs": [
    {
     "data": {
      "image/png": "[encoded data removed]",
      "text/plain": [
       "<matplotlib.figure.Figure at 0xc6a7c18>"
      ]
     },
     "metadata": {},
     "output_type": "display_data"
    }
   ],
   "source": [
    "Fare_1 = titanic_df[titanic_df.Pclass == 1].Fare\n",
    "Fare_2 = titanic_df[titanic_df.Pclass == 2].Fare\n",
    "Fare_3 = titanic_df[titanic_df.Pclass == 3].Fare\n",
    "\n",
    "plt.figure(figsize=(12,6))\n",
    "plt.hist([Fare_1, Fare_2, Fare_3], stacked=False, bins=8)\n",
    "plt.title('All Passsenger Distribution By Pclass and Survival')\n",
    "plt.xlabel('Fare')\n",
    "plt.ylabel('Count of Passengers')\n",
    "plt.legend(['Pclass_1', 'Pclass_2', 'Pclass_3'])\n",
    "plt.show()"
   ]
  },
  {
   "cell_type": "markdown",
   "metadata": {},
   "source": [
    "#### 3.2.2.分析\n",
    "\n",
    "**船票等级与船票价格**\n",
    "\n",
    "船票等级与船票价格的相关性不是很大，各个船票等级在主要的价格区间都有分布，只是较高价位只存在1等票\n",
    "\n"
   ]
  },
  {
   "cell_type": "markdown",
   "metadata": {},
   "source": [
    "## 4.结论（Conclusion）"
   ]
  },
  {
   "cell_type": "markdown",
   "metadata": {},
   "source": [
    "### 4.1.总结\n",
    "\n",
    "说明：由于本次数据分析使用的数为总体数据的一部分，并且数据量较小，使用探索性分析，所以只能得出对于变量之间的相关关系，而不能得出因果关系\n",
    "\n",
    "根据前面的分析总结如下：\n",
    "\n",
    "**1、和生还率有相关关系的因素有性别、船票等级**\n",
    "\n",
    "*关于性别*\n",
    "\n",
    "相关因素，遇到危难的时候，让女性首先获取生还的机会，优先妇女儿童，这个是社会普遍的价值观，这个可能是造成女性生还率高的原因。\n",
    "\n",
    "*关于船票等级*\n",
    "\n",
    "和生还率有一定相关性，根据探索，船票等级和船票价格的对应关系也不是很高，不知道是以什么作为划分等级\n",
    "\n",
    "**2、年龄、船票价格与生还率相关关系不大**\n",
    "\n",
    "这里面 0-10岁的人比较特殊，生还率比较高，推测也是妇女儿童优先的社会普遍价值观的因素。\n",
    "\n",
    "**3、考虑其他可能影响生还率的因素**\n",
    "\n",
    "关于生还率，还需要考虑的，可能还有每个人的身体健康状况、是否了解自救常识、是否会游泳等也可能会影响到生还率\n",
    "\n"
   ]
  },
  {
   "cell_type": "markdown",
   "metadata": {},
   "source": [
    "### 4.2.预测\n",
    "\n",
    "因为数据量有限，并且分析比较浅显，暂不能做出有效预测"
   ]
  },
  {
   "cell_type": "markdown",
   "metadata": {},
   "source": [
    "## 5.研究结果交流"
   ]
  },
  {
   "cell_type": "markdown",
   "metadata": {},
   "source": [
    "通过与朋友探讨，交流研究结果"
   ]
  }
 ],
 "metadata": {
  "kernelspec": {
   "display_name": "Python 2",
   "language": "python",
   "name": "python2"
  },
  "language_info": {
   "codemirror_mode": {
    "name": "ipython",
    "version": 2
   },
   "file_extension": ".py",
   "mimetype": "text/x-python",
   "name": "python",
   "nbconvert_exporter": "python",
   "pygments_lexer": "ipython2",
   "version": "2.7.14"
  }
 },
 "nbformat": 4,
 "nbformat_minor": 2
}
